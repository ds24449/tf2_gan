{
  "nbformat": 4,
  "nbformat_minor": 0,
  "metadata": {
    "colab": {
      "name": "GAN and TF2.ipynb",
      "provenance": [],
      "collapsed_sections": [],
      "authorship_tag": "ABX9TyNggfeGpkf69l5hUq1ylyc+",
      "include_colab_link": true
    },
    "kernelspec": {
      "name": "python3",
      "display_name": "Python 3"
    },
    "accelerator": "GPU"
  },
  "cells": [
    {
      "cell_type": "markdown",
      "metadata": {
        "id": "view-in-github",
        "colab_type": "text"
      },
      "source": [
        "<a href=\"https://colab.research.google.com/github/ds24449/tf2_gan/blob/main/GAN_and_TF2.ipynb\" target=\"_parent\"><img src=\"https://colab.research.google.com/assets/colab-badge.svg\" alt=\"Open In Colab\"/></a>"
      ]
    },
    {
      "cell_type": "markdown",
      "metadata": {
        "id": "EAWEynvYBmW-"
      },
      "source": [
        "## What are GANs?\n",
        "[Generative Adversarial Networks](https://arxiv.org/abs/1406.2661) (GANs) are one of the most interesting ideas in computer science today. Two models are trained simultaneously by an adversarial process. A *generator* (\"the artist\") learns to create images that look real, while a *discriminator* (\"the art critic\") learns to tell real images apart from fakes."
      ]
    },
    {
      "cell_type": "markdown",
      "metadata": {
        "id": "tTRN2F0qc3gg"
      },
      "source": [
        "##Here I am going to use TensorFlow to implement DCGAN and WGAN\n",
        "GAN is basically a game between Generator and Dicriminator. Generator has to Maximize the Loss and Discriminator has to minimize this loss.\n",
        "\n",
        "I am going to Use MNIST digit dataset.\n",
        "\n",
        "![sample output](https://tensorflow.org/images/gan/dcgan.gif)"
      ]
    },
    {
      "cell_type": "code",
      "metadata": {
        "id": "FKewzIPPg7Ay"
      },
      "source": [
        "#Lets Import our good friend TensorFlow\n",
        "import numpy as np\n",
        "import matplotlib.pyplot as plt\n",
        "import time\n",
        "import PIL\n",
        "import imageio #for I/O ops on image data [to generate gifs!!]\n",
        "%matplotlib inline"
      ],
      "execution_count": 1,
      "outputs": []
    },
    {
      "cell_type": "code",
      "metadata": {
        "id": "tnqjpCeLdhvE"
      },
      "source": [
        "import tensorflow as tf\n",
        "from tensorflow.keras import Sequential\n",
        "from tensorflow.keras import layers"
      ],
      "execution_count": 2,
      "outputs": []
    },
    {
      "cell_type": "code",
      "metadata": {
        "id": "401z4YBHionA",
        "colab": {
          "base_uri": "https://localhost:8080/"
        },
        "outputId": "7a59aad9-171b-47db-eb3b-ed447380985f"
      },
      "source": [
        "(X_train,Y_train),(_,_) = tf.keras.datasets.mnist.load_data()\n",
        "X_train = X_train.reshape(X_train.shape[0],X_train.shape[1],X_train.shape[2],1).astype('float32') ##Adding a channels dimension\n",
        "# X_test = X_test.reshape(X_test.shape[0],X_test.shape[1],X_test.shape[2],1).astype('float32')\n",
        "print('MNIST Dataset Shape:')\n",
        "print('X_train: ' + str(X_train.shape))\n",
        "print('Y_train: ' + str(Y_train.shape))\n",
        "# print('X_test:  '  + str(X_test.shape))\n",
        "# print('Y_test:  '  + str(Y_test.shape))\n",
        "X_train = X_train/255."
      ],
      "execution_count": 3,
      "outputs": [
        {
          "output_type": "stream",
          "text": [
            "Downloading data from https://storage.googleapis.com/tensorflow/tf-keras-datasets/mnist.npz\n",
            "11493376/11490434 [==============================] - 0s 0us/step\n",
            "MNIST Dataset Shape:\n",
            "X_train: (60000, 28, 28, 1)\n",
            "Y_train: (60000,)\n"
          ],
          "name": "stdout"
        }
      ]
    },
    {
      "cell_type": "markdown",
      "metadata": {
        "id": "SD7KW3cXJgaz"
      },
      "source": [
        "##Remember Here\n",
        "Do study more about what are BatchDatset objects and how to access whats inside them(is there a way without iterators?)"
      ]
    },
    {
      "cell_type": "code",
      "metadata": {
        "id": "cmle4e09jRGS",
        "colab": {
          "base_uri": "https://localhost:8080/"
        },
        "outputId": "c0e51b5a-0104-4845-8a8e-06d7ca1e296d"
      },
      "source": [
        "#Batch and Shuffle Data\n",
        "BATCH_SIZE = 128\n",
        "train_dataset = tf.data.Dataset.from_tensor_slices(X_train).shuffle(X_train.shape[0]).batch(BATCH_SIZE)\n",
        "print(type(train_dataset))\n",
        "print(train_dataset.__len__)"
      ],
      "execution_count": 4,
      "outputs": [
        {
          "output_type": "stream",
          "text": [
            "<class 'tensorflow.python.data.ops.dataset_ops.BatchDataset'>\n",
            "<bound method DatasetV2.__len__ of <BatchDataset shapes: (None, 28, 28, 1), types: tf.float32>>\n"
          ],
          "name": "stdout"
        }
      ]
    },
    {
      "cell_type": "markdown",
      "metadata": {
        "id": "2gdRN92yJxN0"
      },
      "source": [
        "#Create Models \n",
        "Both Generator and Discriminator are built using Keras API\n",
        "\n",
        "##Generator Model :- \n",
        "Generator is a Upsampler which takes a Noise vector and produces a sensible(to us) image.\n",
        "\n",
        "We use a Dense Layer to Take input noise vector and thne upsample it to a size of [28,28,1] i.e to the size of an image in MNIST Dataset"
      ]
    },
    {
      "cell_type": "code",
      "metadata": {
        "id": "X0gCUFNZCZLT"
      },
      "source": [
        "def get_generator_model():\n",
        "  \"\"\"Returns A Genreator Model \n",
        "  \n",
        "    Upsample Images from vector to a tensor of shape (28,28,1)\n",
        "  \"\"\"\n",
        "  model = Sequential([\n",
        "      layers.Dense(7*7*256,use_bias=False,input_shape=(100,)),\n",
        "      layers.BatchNormalization(),\n",
        "      layers.LeakyReLU(),\n",
        "\n",
        "      layers.Reshape(target_shape=(7,7,256)),\n",
        "\n",
        "      #real upsampling starts here\n",
        "      layers.Conv2DTranspose(128,(5,5),strides=(1,1),padding=\"same\",use_bias=False),\n",
        "      layers.BatchNormalization(),\n",
        "      layers.LeakyReLU(),\n",
        "\n",
        "      layers.Conv2DTranspose(64,(5,5),strides=(2,2),padding=\"same\",use_bias=False),\n",
        "      layers.BatchNormalization(),\n",
        "      layers.LeakyReLU(),\n",
        "      layers.Conv2DTranspose(1, (5,5), strides=(2,2), padding=\"same\", activation='tanh', use_bias=False),\n",
        "  ])\n",
        "  return model"
      ],
      "execution_count": 5,
      "outputs": []
    },
    {
      "cell_type": "code",
      "metadata": {
        "colab": {
          "base_uri": "https://localhost:8080/",
          "height": 786
        },
        "id": "GGdTEpPPRD1A",
        "outputId": "f3c0e835-d12a-4461-ce83-7141b8eeb09f"
      },
      "source": [
        "gen = get_generator_model()\n",
        "gen.summary()\n",
        "noise = tf.random.normal([1,100])\n",
        "\n",
        "generated_image = gen(noise,training = False)\n",
        "plt.imshow(generated_image[0,:,:,0],cmap='gray')"
      ],
      "execution_count": 6,
      "outputs": [
        {
          "output_type": "stream",
          "text": [
            "Model: \"sequential\"\n",
            "_________________________________________________________________\n",
            "Layer (type)                 Output Shape              Param #   \n",
            "=================================================================\n",
            "dense (Dense)                (None, 12544)             1254400   \n",
            "_________________________________________________________________\n",
            "batch_normalization (BatchNo (None, 12544)             50176     \n",
            "_________________________________________________________________\n",
            "leaky_re_lu (LeakyReLU)      (None, 12544)             0         \n",
            "_________________________________________________________________\n",
            "reshape (Reshape)            (None, 7, 7, 256)         0         \n",
            "_________________________________________________________________\n",
            "conv2d_transpose (Conv2DTran (None, 7, 7, 128)         819200    \n",
            "_________________________________________________________________\n",
            "batch_normalization_1 (Batch (None, 7, 7, 128)         512       \n",
            "_________________________________________________________________\n",
            "leaky_re_lu_1 (LeakyReLU)    (None, 7, 7, 128)         0         \n",
            "_________________________________________________________________\n",
            "conv2d_transpose_1 (Conv2DTr (None, 14, 14, 64)        204800    \n",
            "_________________________________________________________________\n",
            "batch_normalization_2 (Batch (None, 14, 14, 64)        256       \n",
            "_________________________________________________________________\n",
            "leaky_re_lu_2 (LeakyReLU)    (None, 14, 14, 64)        0         \n",
            "_________________________________________________________________\n",
            "conv2d_transpose_2 (Conv2DTr (None, 28, 28, 1)         1600      \n",
            "=================================================================\n",
            "Total params: 2,330,944\n",
            "Trainable params: 2,305,472\n",
            "Non-trainable params: 25,472\n",
            "_________________________________________________________________\n"
          ],
          "name": "stdout"
        },
        {
          "output_type": "execute_result",
          "data": {
            "text/plain": [
              "<matplotlib.image.AxesImage at 0x7f58a02abc50>"
            ]
          },
          "metadata": {
            "tags": []
          },
          "execution_count": 6
        },
        {
          "output_type": "display_data",
          "data": {
            "image/png": "[encoded data removed]",
            "text/plain": [
              "<Figure size 432x288 with 1 Axes>"
            ]
          },
          "metadata": {
            "tags": [],
            "needs_background": "light"
          }
        }
      ]
    },
    {
      "cell_type": "markdown",
      "metadata": {
        "id": "-XRXXdRqhbCB"
      },
      "source": [
        "##The Discriminator\n",
        "It is a CNN based Classification model\n",
        "Classifies between Real and Fake"
      ]
    },
    {
      "cell_type": "code",
      "metadata": {
        "id": "YRl_kIlQRwJ0"
      },
      "source": [
        "def get_discriminator_model():\n",
        "  \"\"\" Discrimiator\n",
        "  If no activation is defined at Dense layer then Negative value for fakes \n",
        "  and positive for Real\n",
        "  \"\"\"\n",
        "  model = Sequential([\n",
        "      layers.Conv2D(64,(5,5),padding = \"valid\",input_shape=[28,28,1]),\n",
        "      layers.LeakyReLU(),\n",
        "      layers.Dropout(0.45),\n",
        "      layers.Conv2D(128,(5,5),padding = \"valid\",input_shape=[28,28,1]),\n",
        "      layers.LeakyReLU(),\n",
        "      layers.Dropout(0.45),\n",
        "      layers.Flatten(),\n",
        "      layers.Dense(1),\n",
        "  ])\n",
        "  return model"
      ],
      "execution_count": 7,
      "outputs": []
    },
    {
      "cell_type": "code",
      "metadata": {
        "colab": {
          "base_uri": "https://localhost:8080/"
        },
        "id": "Q0foqNMajJcT",
        "outputId": "39cb2ac1-4d61-4e8b-89cc-66b20be372f5"
      },
      "source": [
        "disc = get_discriminator_model()\n",
        "disc.summary()\n",
        "print(\"------------------------\")\n",
        "print(disc(generated_image))"
      ],
      "execution_count": 8,
      "outputs": [
        {
          "output_type": "stream",
          "text": [
            "Model: \"sequential_1\"\n",
            "_________________________________________________________________\n",
            "Layer (type)                 Output Shape              Param #   \n",
            "=================================================================\n",
            "conv2d (Conv2D)              (None, 24, 24, 64)        1664      \n",
            "_________________________________________________________________\n",
            "leaky_re_lu_3 (LeakyReLU)    (None, 24, 24, 64)        0         \n",
            "_________________________________________________________________\n",
            "dropout (Dropout)            (None, 24, 24, 64)        0         \n",
            "_________________________________________________________________\n",
            "conv2d_1 (Conv2D)            (None, 20, 20, 128)       204928    \n",
            "_________________________________________________________________\n",
            "leaky_re_lu_4 (LeakyReLU)    (None, 20, 20, 128)       0         \n",
            "_________________________________________________________________\n",
            "dropout_1 (Dropout)          (None, 20, 20, 128)       0         \n",
            "_________________________________________________________________\n",
            "flatten (Flatten)            (None, 51200)             0         \n",
            "_________________________________________________________________\n",
            "dense_1 (Dense)              (None, 1)                 51201     \n",
            "=================================================================\n",
            "Total params: 257,793\n",
            "Trainable params: 257,793\n",
            "Non-trainable params: 0\n",
            "_________________________________________________________________\n",
            "------------------------\n",
            "tf.Tensor([[-0.00112904]], shape=(1, 1), dtype=float32)\n"
          ],
          "name": "stdout"
        }
      ]
    },
    {
      "cell_type": "markdown",
      "metadata": {
        "id": "dVbHoNQSpbkW"
      },
      "source": [
        "###Base Loss Function for Disc and Gen\n"
      ]
    },
    {
      "cell_type": "code",
      "metadata": {
        "id": "1Tcp1m_Ljan4"
      },
      "source": [
        "cross_entropy = tf.keras.losses.BinaryCrossentropy(from_logits=True)\n",
        "##Optimizer is the same all mighty Adam Optimizer\n",
        "gen_opt = tf.keras.optimizers.Adam()\n",
        "disc_opt = tf.keras.optimizers.Adam()"
      ],
      "execution_count": 29,
      "outputs": []
    },
    {
      "cell_type": "markdown",
      "metadata": {
        "id": "8v2T0scQp9Wg"
      },
      "source": [
        "###Discriminator Loss\n",
        "this loss is combined loss of discriminators performance on Real images and on fake images"
      ]
    },
    {
      "cell_type": "code",
      "metadata": {
        "id": "PB_8zEUSp8wm"
      },
      "source": [
        "def discriminator_loss(real_output,fake_output):\n",
        "  real_loss = cross_entropy(tf.ones_like(real_output),real_output)\n",
        "  fake_loss = cross_entropy(tf.zeros_like(fake_output),fake_output)\n",
        "  return real_loss+fake_loss\n"
      ],
      "execution_count": 30,
      "outputs": []
    },
    {
      "cell_type": "markdown",
      "metadata": {
        "id": "1g6lZC6uqudE"
      },
      "source": [
        "###Gen Loss\n",
        "how well the generator is able to fool the discriminator"
      ]
    },
    {
      "cell_type": "code",
      "metadata": {
        "id": "QLL-5vfaqnXf"
      },
      "source": [
        "def generator_loss(fake_output):\n",
        "  return cross_entropy(tf.ones_like(fake_output),fake_output)"
      ],
      "execution_count": 31,
      "outputs": []
    },
    {
      "cell_type": "code",
      "metadata": {
        "id": "iTWqiOD6rRoG"
      },
      "source": [
        "# checkpoint_dir = './training_checkpoints'\n",
        "# checkpoint_prefix = os.path.join(checkpoint_dir, \"ckpt\")\n",
        "# checkpoint = tf.train.Checkpoint(generator_optimizer=generator_optimizer,\n",
        "#                                  discriminator_optimizer=discriminator_optimizer,\n",
        "#                                  generator=generator,\n",
        "#                                  discriminator=discriminator)"
      ],
      "execution_count": 32,
      "outputs": []
    },
    {
      "cell_type": "markdown",
      "metadata": {
        "id": "3-J-52ECr3gq"
      },
      "source": [
        "###Defining Training Loop"
      ]
    },
    {
      "cell_type": "code",
      "metadata": {
        "id": "K6soVWUTru9Y"
      },
      "source": [
        "EPOCHS = 3\n",
        "noise_dim = 100\n",
        "num_examples_to_generate = 16\n",
        "\n",
        "# We will reuse this seed overtime (so it's easier)\n",
        "# to visualize progress in the animated GIF)\n",
        "seed = tf.random.normal([num_examples_to_generate, noise_dim])"
      ],
      "execution_count": 33,
      "outputs": []
    },
    {
      "cell_type": "markdown",
      "metadata": {
        "id": "oKC9TWzNr-1e"
      },
      "source": [
        "The training loop begins with generator receiving a random seed as input. That seed is used to produce an image. The discriminator is then used to classify real images (drawn from the training set) and fakes images (produced by the generator). The loss is calculated for each of these models, and the gradients are used to update the generator and discriminator."
      ]
    },
    {
      "cell_type": "markdown",
      "metadata": {
        "id": "Ozo9odOpyXfK"
      },
      "source": [
        "### The Decorator @tf.function\n",
        "is used create a graph from defined function\n",
        "https://www.tensorflow.org/guide/intro_to_graphs#tracing_graphs"
      ]
    },
    {
      "cell_type": "code",
      "metadata": {
        "id": "8oZwZTwXr7K1"
      },
      "source": [
        "@tf.function\n",
        "def train_step(images):\n",
        "  noise = tf.random.normal([BATCH_SIZE,noise_dim])\n",
        "\n",
        "  with tf.GradientTape() as gen_tape,tf.GradientTape() as disc_tape:\n",
        "    fake_image = gen(noise,training=True)\n",
        "\n",
        "    real_output = disc(images,training=True)\n",
        "    fake_output = disc(fake_image,training=True)\n",
        "\n",
        "    gen_loss = generator_loss(fake_output)\n",
        "    disc_loss = discriminator_loss(real_output,fake_output)\n",
        "  #Now we calculate the loss using GradientTapes\n",
        "  gradients_of_generator = gen_tape.gradient(gen_loss,gen.trainable_variables)\n",
        "  gradients_of_discriminator = disc_tape.gradient(disc_loss,disc.trainable_variables)\n",
        "  #Optimize the variables with grads\n",
        "  gen_opt.apply_gradients(zip(gradients_of_generator, gen.trainable_variables))\n",
        "  disc_opt.apply_gradients(zip(gradients_of_discriminator, disc.trainable_variables))\n",
        "\n",
        "\n"
      ],
      "execution_count": 38,
      "outputs": []
    },
    {
      "cell_type": "code",
      "metadata": {
        "id": "HFNqA6vx06dJ"
      },
      "source": [
        "def train(dataset,epochs):\n",
        "  for epoch in range(epochs):\n",
        "    start = time.time()\n",
        "\n",
        "    for image_batch in dataset:\n",
        "      train_step(image_batch)\n",
        "    generate_and_print(gen,noise,epochs+1)\n",
        "    print ('Time for epoch {} is {} sec'.format(epoch + 1, time.time()-start))"
      ],
      "execution_count": 39,
      "outputs": []
    },
    {
      "cell_type": "markdown",
      "metadata": {
        "id": "0jusgICh2UNA"
      },
      "source": [
        "Generate and print images"
      ]
    },
    {
      "cell_type": "code",
      "metadata": {
        "id": "v5CfbvPQ2U_x"
      },
      "source": [
        "def generate_and_print(model, test_input, epoch):\n",
        "  # Notice `training` is set to False.\n",
        "  # This is so all layers run in inference mode (batchnorm).\n",
        "  predictions = model(test_input, training=False)\n",
        "\n",
        "  fig = plt.figure(figsize=(4,4))\n",
        "\n",
        "  for i in range(predictions.shape[0]):\n",
        "      plt.subplot(4, 4, i+1)\n",
        "      plt.imshow(predictions[i, :, :, 0] * 127.5 + 127.5, cmap='gray')\n",
        "      plt.axis('off')\n",
        "\n",
        "  # plt.savefig('image_at_epoch_{:04d}.png'.format(epoch))\n",
        "  plt.show()"
      ],
      "execution_count": 46,
      "outputs": []
    },
    {
      "cell_type": "code",
      "metadata": {
        "colab": {
          "base_uri": "https://localhost:8080/",
          "height": 250
        },
        "id": "qJBnkcAE4Y9n",
        "outputId": "4ed0dbaf-35b4-4c3b-c41a-baaeee9a4027"
      },
      "source": [
        "train(train_dataset,EPOCHS)"
      ],
      "execution_count": 47,
      "outputs": [
        {
          "output_type": "display_data",
          "data": {
            "image/png": "[encoded data removed]",
            "text/plain": [
              "<Figure size 288x288 with 1 Axes>"
            ]
          },
          "metadata": {
            "tags": [],
            "needs_background": "light"
          }
        },
        {
          "output_type": "stream",
          "text": [
            "Time for epoch 1 is 40.169257164001465 sec\n"
          ],
          "name": "stdout"
        },
        {
          "output_type": "display_data",
          "data": {
            "image/png": "[encoded data removed]",
            "text/plain": [
              "<Figure size 288x288 with 1 Axes>"
            ]
          },
          "metadata": {
            "tags": [],
            "needs_background": "light"
          }
        },
        {
          "output_type": "stream",
          "text": [
            "Time for epoch 2 is 40.19777989387512 sec\n"
          ],
          "name": "stdout"
        },
        {
          "output_type": "display_data",
          "data": {
            "image/png": "[encoded data removed]",
            "text/plain": [
              "<Figure size 288x288 with 1 Axes>"
            ]
          },
          "metadata": {
            "tags": [],
            "needs_background": "light"
          }
        },
        {
          "output_type": "stream",
          "text": [
            "Time for epoch 3 is 40.43869209289551 sec\n"
          ],
          "name": "stdout"
        }
      ]
    },
    {
      "cell_type": "code",
      "metadata": {
        "id": "DkCPj3wK4liu"
      },
      "source": [
        ""
      ],
      "execution_count": null,
      "outputs": []
    }
  ]
}